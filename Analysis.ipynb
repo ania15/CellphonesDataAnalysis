{
 "cells": [
  {
   "cell_type": "markdown",
   "id": "1338655e",
   "metadata": {},
   "source": [
    "## Anna Kaniowska - Cellphones & Accessories dataset analysis"
   ]
  },
  {
   "cell_type": "markdown",
   "id": "e38f8171",
   "metadata": {},
   "source": [
    "The goal of this project is to extract as much information form the data set that can be obtained here - http://snap.stanford.edu/data/amazon/Cell_Phones_&_Accessories.txt.gz (source: http://snap.stanford.edu/data/web-Amazon-links.html)"
   ]
  },
  {
   "cell_type": "code",
   "execution_count": 1,
   "id": "23dd8c6f",
   "metadata": {},
   "outputs": [],
   "source": [
    "# All imports needed to perform the analysis\n",
    "import gzip\n",
    "import pandas as pd\n",
    "import numpy as np\n",
    "import seaborn as sns\n",
    "import matplotlib.pyplot as plt"
   ]
  },
  {
   "cell_type": "markdown",
   "id": "dabfa2c0",
   "metadata": {},
   "source": [
    "#### Loading the dataset"
   ]
  },
  {
   "cell_type": "code",
   "execution_count": 2,
   "id": "0b36634b",
   "metadata": {},
   "outputs": [],
   "source": [
    "# A modified version of function available on the source page\n",
    "def parse(filename):\n",
    "    \"\"\"\n",
    "    Parses a gzipped text file and returns a list of dictionaries containing the parsed data.\n",
    "\n",
    "    Parameters:\n",
    "    filename (str): The path to the gzipped text file to be parsed.\n",
    "\n",
    "    Returns:\n",
    "    list: A list of dictionaries containing the parsed data.\n",
    "    \"\"\"\n",
    "    f = gzip.open(filename, 'rb')\n",
    "    entry = {}\n",
    "    data = []\n",
    "    for line in f:\n",
    "        l = line.decode('utf-8').strip()\n",
    "        colonPos = l.find(':')\n",
    "        if colonPos == -1:\n",
    "            data.append(entry)\n",
    "            entry = {}\n",
    "            continue\n",
    "        eName = l[:colonPos]\n",
    "        rest = l[colonPos+2:]\n",
    "        entry[eName] = rest\n",
    "    data.append(entry)\n",
    "    return data\n",
    "\n",
    "# Loading the dataset\n",
    "data = parse('Cell_Phones_&_Accessories.txt.gz')\n",
    "df = pd.DataFrame(data)\n"
   ]
  },
  {
   "cell_type": "markdown",
   "id": "6ce0a192",
   "metadata": {},
   "source": [
    "#### Getting to know the dataset"
   ]
  },
  {
   "cell_type": "code",
   "execution_count": 3,
   "id": "c5f6c8a9",
   "metadata": {},
   "outputs": [
    {
     "data": {
      "text/html": [
       "<div>\n",
       "<style scoped>\n",
       "    .dataframe tbody tr th:only-of-type {\n",
       "        vertical-align: middle;\n",
       "    }\n",
       "\n",
       "    .dataframe tbody tr th {\n",
       "        vertical-align: top;\n",
       "    }\n",
       "\n",
       "    .dataframe thead th {\n",
       "        text-align: right;\n",
       "    }\n",
       "</style>\n",
       "<table border=\"1\" class=\"dataframe\">\n",
       "  <thead>\n",
       "    <tr style=\"text-align: right;\">\n",
       "      <th></th>\n",
       "      <th>product/productId</th>\n",
       "      <th>product/title</th>\n",
       "      <th>product/price</th>\n",
       "      <th>review/userId</th>\n",
       "      <th>review/profileName</th>\n",
       "      <th>review/helpfulness</th>\n",
       "      <th>review/score</th>\n",
       "      <th>review/time</th>\n",
       "      <th>review/summary</th>\n",
       "      <th>review/text</th>\n",
       "    </tr>\n",
       "  </thead>\n",
       "  <tbody>\n",
       "    <tr>\n",
       "      <th>0</th>\n",
       "      <td>B000JVER7W</td>\n",
       "      <td>Mobile Action MA730 Handset Manager - Bluetoot...</td>\n",
       "      <td>unknown</td>\n",
       "      <td>A1RXYH9ROBAKEZ</td>\n",
       "      <td>A. Igoe</td>\n",
       "      <td>0/0</td>\n",
       "      <td>1.0</td>\n",
       "      <td>1233360000</td>\n",
       "      <td>Don't buy!</td>\n",
       "      <td>First of all, the company took my money and se...</td>\n",
       "    </tr>\n",
       "    <tr>\n",
       "      <th>1</th>\n",
       "      <td>B000JVER7W</td>\n",
       "      <td>Mobile Action MA730 Handset Manager - Bluetoot...</td>\n",
       "      <td>unknown</td>\n",
       "      <td>A7L6E1KSJTAJ6</td>\n",
       "      <td>Steven Martz</td>\n",
       "      <td>0/0</td>\n",
       "      <td>5.0</td>\n",
       "      <td>1191456000</td>\n",
       "      <td>Mobile Action Bluetooth Mobile Phone Tool Soft...</td>\n",
       "      <td>Great product- tried others and this is a ten ...</td>\n",
       "    </tr>\n",
       "    <tr>\n",
       "      <th>2</th>\n",
       "      <td>B000JVER7W</td>\n",
       "      <td>Mobile Action MA730 Handset Manager - Bluetoot...</td>\n",
       "      <td>unknown</td>\n",
       "      <td>A2NOQQ7I6PU7CW</td>\n",
       "      <td>Daniel M. Johnson \"rocknbluesharp\"</td>\n",
       "      <td>0/0</td>\n",
       "      <td>4.0</td>\n",
       "      <td>1186704000</td>\n",
       "      <td>good</td>\n",
       "      <td>works real good....a little hard to set up...w...</td>\n",
       "    </tr>\n",
       "    <tr>\n",
       "      <th>3</th>\n",
       "      <td>B000924R5I</td>\n",
       "      <td>USB Data Cable for Sony-Ericsson Z600, Z500, Z...</td>\n",
       "      <td>unknown</td>\n",
       "      <td>A29Q0CLOF0U8BN</td>\n",
       "      <td>E. Owens</td>\n",
       "      <td>4/5</td>\n",
       "      <td>4.0</td>\n",
       "      <td>1146182400</td>\n",
       "      <td>No instructions included...</td>\n",
       "      <td>The price was right for this cable ($11.95+$4....</td>\n",
       "    </tr>\n",
       "    <tr>\n",
       "      <th>4</th>\n",
       "      <td>B000924R5I</td>\n",
       "      <td>USB Data Cable for Sony-Ericsson Z600, Z500, Z...</td>\n",
       "      <td>unknown</td>\n",
       "      <td>ANNHJND2MHUI3</td>\n",
       "      <td>Isaac Salas \"=CRBF=gB^link\"</td>\n",
       "      <td>0/0</td>\n",
       "      <td>1.0</td>\n",
       "      <td>1173657600</td>\n",
       "      <td>NOT A DATA CABLE</td>\n",
       "      <td>this is NOT a DATA CABLE this is only a USB ch...</td>\n",
       "    </tr>\n",
       "    <tr>\n",
       "      <th>5</th>\n",
       "      <td>B000924R5I</td>\n",
       "      <td>USB Data Cable for Sony-Ericsson Z600, Z500, Z...</td>\n",
       "      <td>unknown</td>\n",
       "      <td>A2DP6EPPQAIL3C</td>\n",
       "      <td>David M. Cantrell</td>\n",
       "      <td>0/0</td>\n",
       "      <td>4.0</td>\n",
       "      <td>1171584000</td>\n",
       "      <td>works as expected</td>\n",
       "      <td>There's not much to say about a data cable -- ...</td>\n",
       "    </tr>\n",
       "    <tr>\n",
       "      <th>6</th>\n",
       "      <td>B000924R5I</td>\n",
       "      <td>USB Data Cable for Sony-Ericsson Z600, Z500, Z...</td>\n",
       "      <td>unknown</td>\n",
       "      <td>A254KU5H615J3N</td>\n",
       "      <td>J. S. Gaviota</td>\n",
       "      <td>0/0</td>\n",
       "      <td>5.0</td>\n",
       "      <td>1142467200</td>\n",
       "      <td>Excellent product!</td>\n",
       "      <td>I have a Sony Ericsson K700i, which doesn't se...</td>\n",
       "    </tr>\n",
       "    <tr>\n",
       "      <th>7</th>\n",
       "      <td>B000924R5I</td>\n",
       "      <td>USB Data Cable for Sony-Ericsson Z600, Z500, Z...</td>\n",
       "      <td>unknown</td>\n",
       "      <td>ACVTUAQ4RUGK</td>\n",
       "      <td>Parathalyn \"Parathalyn\"</td>\n",
       "      <td>0/0</td>\n",
       "      <td>1.0</td>\n",
       "      <td>1133654400</td>\n",
       "      <td>Beware 3rd Party Cables &amp; Sony Ericsson Tech S...</td>\n",
       "      <td>Well, it technically does what it is supposed ...</td>\n",
       "    </tr>\n",
       "    <tr>\n",
       "      <th>8</th>\n",
       "      <td>B000924R5I</td>\n",
       "      <td>USB Data Cable for Sony-Ericsson Z600, Z500, Z...</td>\n",
       "      <td>unknown</td>\n",
       "      <td>A34D9XVHS261KT</td>\n",
       "      <td>D. Cram</td>\n",
       "      <td>1/2</td>\n",
       "      <td>3.0</td>\n",
       "      <td>1135814400</td>\n",
       "      <td>Undecided on product, but Electro Island is A+...</td>\n",
       "      <td>I currently have this item for my S/E z500a ph...</td>\n",
       "    </tr>\n",
       "    <tr>\n",
       "      <th>9</th>\n",
       "      <td>B000924R5I</td>\n",
       "      <td>USB Data Cable for Sony-Ericsson Z600, Z500, Z...</td>\n",
       "      <td>unknown</td>\n",
       "      <td>A3Q3B32YUDC3IK</td>\n",
       "      <td>Jonathan C. Phillips \"Chris\"</td>\n",
       "      <td>6/10</td>\n",
       "      <td>4.0</td>\n",
       "      <td>1126915200</td>\n",
       "      <td>Good cable to have</td>\n",
       "      <td>This is a good cable to have. You don't need t...</td>\n",
       "    </tr>\n",
       "  </tbody>\n",
       "</table>\n",
       "</div>"
      ],
      "text/plain": [
       "  product/productId                                      product/title   \n",
       "0        B000JVER7W  Mobile Action MA730 Handset Manager - Bluetoot...  \\\n",
       "1        B000JVER7W  Mobile Action MA730 Handset Manager - Bluetoot...   \n",
       "2        B000JVER7W  Mobile Action MA730 Handset Manager - Bluetoot...   \n",
       "3        B000924R5I  USB Data Cable for Sony-Ericsson Z600, Z500, Z...   \n",
       "4        B000924R5I  USB Data Cable for Sony-Ericsson Z600, Z500, Z...   \n",
       "5        B000924R5I  USB Data Cable for Sony-Ericsson Z600, Z500, Z...   \n",
       "6        B000924R5I  USB Data Cable for Sony-Ericsson Z600, Z500, Z...   \n",
       "7        B000924R5I  USB Data Cable for Sony-Ericsson Z600, Z500, Z...   \n",
       "8        B000924R5I  USB Data Cable for Sony-Ericsson Z600, Z500, Z...   \n",
       "9        B000924R5I  USB Data Cable for Sony-Ericsson Z600, Z500, Z...   \n",
       "\n",
       "  product/price   review/userId                  review/profileName   \n",
       "0       unknown  A1RXYH9ROBAKEZ                             A. Igoe  \\\n",
       "1       unknown   A7L6E1KSJTAJ6                        Steven Martz   \n",
       "2       unknown  A2NOQQ7I6PU7CW  Daniel M. Johnson \"rocknbluesharp\"   \n",
       "3       unknown  A29Q0CLOF0U8BN                            E. Owens   \n",
       "4       unknown   ANNHJND2MHUI3         Isaac Salas \"=CRBF=gB^link\"   \n",
       "5       unknown  A2DP6EPPQAIL3C                   David M. Cantrell   \n",
       "6       unknown  A254KU5H615J3N                       J. S. Gaviota   \n",
       "7       unknown    ACVTUAQ4RUGK             Parathalyn \"Parathalyn\"   \n",
       "8       unknown  A34D9XVHS261KT                             D. Cram   \n",
       "9       unknown  A3Q3B32YUDC3IK        Jonathan C. Phillips \"Chris\"   \n",
       "\n",
       "  review/helpfulness review/score review/time   \n",
       "0                0/0          1.0  1233360000  \\\n",
       "1                0/0          5.0  1191456000   \n",
       "2                0/0          4.0  1186704000   \n",
       "3                4/5          4.0  1146182400   \n",
       "4                0/0          1.0  1173657600   \n",
       "5                0/0          4.0  1171584000   \n",
       "6                0/0          5.0  1142467200   \n",
       "7                0/0          1.0  1133654400   \n",
       "8                1/2          3.0  1135814400   \n",
       "9               6/10          4.0  1126915200   \n",
       "\n",
       "                                      review/summary   \n",
       "0                                         Don't buy!  \\\n",
       "1  Mobile Action Bluetooth Mobile Phone Tool Soft...   \n",
       "2                                               good   \n",
       "3                        No instructions included...   \n",
       "4                                   NOT A DATA CABLE   \n",
       "5                                  works as expected   \n",
       "6                                 Excellent product!   \n",
       "7  Beware 3rd Party Cables & Sony Ericsson Tech S...   \n",
       "8  Undecided on product, but Electro Island is A+...   \n",
       "9                                 Good cable to have   \n",
       "\n",
       "                                         review/text  \n",
       "0  First of all, the company took my money and se...  \n",
       "1  Great product- tried others and this is a ten ...  \n",
       "2  works real good....a little hard to set up...w...  \n",
       "3  The price was right for this cable ($11.95+$4....  \n",
       "4  this is NOT a DATA CABLE this is only a USB ch...  \n",
       "5  There's not much to say about a data cable -- ...  \n",
       "6  I have a Sony Ericsson K700i, which doesn't se...  \n",
       "7  Well, it technically does what it is supposed ...  \n",
       "8  I currently have this item for my S/E z500a ph...  \n",
       "9  This is a good cable to have. You don't need t...  "
      ]
     },
     "execution_count": 3,
     "metadata": {},
     "output_type": "execute_result"
    }
   ],
   "source": [
    "df.head(10)"
   ]
  },
  {
   "cell_type": "code",
   "execution_count": 4,
   "id": "19443d93",
   "metadata": {},
   "outputs": [
    {
     "name": "stdout",
     "output_type": "stream",
     "text": [
      "<class 'pandas.core.frame.DataFrame'>\n",
      "RangeIndex: 78931 entries, 0 to 78930\n",
      "Data columns (total 10 columns):\n",
      " #   Column              Non-Null Count  Dtype \n",
      "---  ------              --------------  ----- \n",
      " 0   product/productId   78930 non-null  object\n",
      " 1   product/title       78930 non-null  object\n",
      " 2   product/price       78930 non-null  object\n",
      " 3   review/userId       78930 non-null  object\n",
      " 4   review/profileName  78930 non-null  object\n",
      " 5   review/helpfulness  78930 non-null  object\n",
      " 6   review/score        78930 non-null  object\n",
      " 7   review/time         78930 non-null  object\n",
      " 8   review/summary      78930 non-null  object\n",
      " 9   review/text         78930 non-null  object\n",
      "dtypes: object(10)\n",
      "memory usage: 6.0+ MB\n"
     ]
    }
   ],
   "source": [
    "df.info()"
   ]
  },
  {
   "cell_type": "code",
   "execution_count": 5,
   "id": "44b4f055",
   "metadata": {},
   "outputs": [
    {
     "data": {
      "text/html": [
       "<div>\n",
       "<style scoped>\n",
       "    .dataframe tbody tr th:only-of-type {\n",
       "        vertical-align: middle;\n",
       "    }\n",
       "\n",
       "    .dataframe tbody tr th {\n",
       "        vertical-align: top;\n",
       "    }\n",
       "\n",
       "    .dataframe thead th {\n",
       "        text-align: right;\n",
       "    }\n",
       "</style>\n",
       "<table border=\"1\" class=\"dataframe\">\n",
       "  <thead>\n",
       "    <tr style=\"text-align: right;\">\n",
       "      <th></th>\n",
       "      <th>product/productId</th>\n",
       "      <th>product/title</th>\n",
       "      <th>product/price</th>\n",
       "      <th>review/userId</th>\n",
       "      <th>review/profileName</th>\n",
       "      <th>review/helpfulness</th>\n",
       "      <th>review/score</th>\n",
       "      <th>review/time</th>\n",
       "      <th>review/summary</th>\n",
       "      <th>review/text</th>\n",
       "    </tr>\n",
       "  </thead>\n",
       "  <tbody>\n",
       "    <tr>\n",
       "      <th>count</th>\n",
       "      <td>78930</td>\n",
       "      <td>78930</td>\n",
       "      <td>78930</td>\n",
       "      <td>78930</td>\n",
       "      <td>78930</td>\n",
       "      <td>78930</td>\n",
       "      <td>78930</td>\n",
       "      <td>78930</td>\n",
       "      <td>78930</td>\n",
       "      <td>78930</td>\n",
       "    </tr>\n",
       "    <tr>\n",
       "      <th>unique</th>\n",
       "      <td>7438</td>\n",
       "      <td>7150</td>\n",
       "      <td>944</td>\n",
       "      <td>68041</td>\n",
       "      <td>63370</td>\n",
       "      <td>1305</td>\n",
       "      <td>5</td>\n",
       "      <td>4431</td>\n",
       "      <td>60321</td>\n",
       "      <td>77390</td>\n",
       "    </tr>\n",
       "    <tr>\n",
       "      <th>top</th>\n",
       "      <td>B0009B0IX4</td>\n",
       "      <td>Plantronics Voyager 510 Bluetooth Headset [Ret...</td>\n",
       "      <td>unknown</td>\n",
       "      <td>unknown</td>\n",
       "      <td>unknown</td>\n",
       "      <td>0/0</td>\n",
       "      <td>5.0</td>\n",
       "      <td>1168300800</td>\n",
       "      <td>Great Product</td>\n",
       "      <td>I had been very happy with my Motorola phone u...</td>\n",
       "    </tr>\n",
       "    <tr>\n",
       "      <th>freq</th>\n",
       "      <td>3443</td>\n",
       "      <td>3443</td>\n",
       "      <td>43287</td>\n",
       "      <td>2276</td>\n",
       "      <td>2276</td>\n",
       "      <td>34920</td>\n",
       "      <td>30253</td>\n",
       "      <td>519</td>\n",
       "      <td>211</td>\n",
       "      <td>20</td>\n",
       "    </tr>\n",
       "  </tbody>\n",
       "</table>\n",
       "</div>"
      ],
      "text/plain": [
       "       product/productId                                      product/title   \n",
       "count              78930                                              78930  \\\n",
       "unique              7438                                               7150   \n",
       "top           B0009B0IX4  Plantronics Voyager 510 Bluetooth Headset [Ret...   \n",
       "freq                3443                                               3443   \n",
       "\n",
       "       product/price review/userId review/profileName review/helpfulness   \n",
       "count          78930         78930              78930              78930  \\\n",
       "unique           944         68041              63370               1305   \n",
       "top          unknown       unknown            unknown                0/0   \n",
       "freq           43287          2276               2276              34920   \n",
       "\n",
       "       review/score review/time review/summary   \n",
       "count         78930       78930          78930  \\\n",
       "unique            5        4431          60321   \n",
       "top             5.0  1168300800  Great Product   \n",
       "freq          30253         519            211   \n",
       "\n",
       "                                              review/text  \n",
       "count                                               78930  \n",
       "unique                                              77390  \n",
       "top     I had been very happy with my Motorola phone u...  \n",
       "freq                                                   20  "
      ]
     },
     "execution_count": 5,
     "metadata": {},
     "output_type": "execute_result"
    }
   ],
   "source": [
    "df.describe()"
   ]
  },
  {
   "cell_type": "code",
   "execution_count": 6,
   "id": "43e28718",
   "metadata": {},
   "outputs": [
    {
     "name": "stdout",
     "output_type": "stream",
     "text": [
      "The shape of the dataset is: (78931, 10)\n"
     ]
    }
   ],
   "source": [
    "print(f\"The shape of the dataset is: {df.shape}\")"
   ]
  },
  {
   "cell_type": "markdown",
   "id": "4c6de0cc",
   "metadata": {},
   "source": [
    "Taking a first look at the data, it is visible that it shows the reviews that customers gave to the products. The products are mainly cellphones and their accesories. The dataset is big - almost 79 000 rows is a significant amount of data. 10 columns provide information about the rated product, the customer and their opinion on the product. When it comes to technical details - it is necessary to change 'unknown' values to NaN in order to prepare data to further analysis. Checking the dataset for duplicated rows and dropping existing ones is also necessary because this is something that cannot be seen at first glance. Another conclusion is that the types of the columns are not necessarily correct (e.g. product/price should be stored as float), it is also needed to be corrected.\n",
    "\n",
    "#### Checking for duplicated rows"
   ]
  },
  {
   "cell_type": "code",
   "execution_count": 7,
   "id": "48dedc61",
   "metadata": {},
   "outputs": [
    {
     "name": "stdout",
     "output_type": "stream",
     "text": [
      "There is 36 duplicated rows in the dataset\n"
     ]
    }
   ],
   "source": [
    "print(f\"There is {df.duplicated().sum()} duplicated rows in the dataset\")"
   ]
  },
  {
   "cell_type": "code",
   "execution_count": 8,
   "id": "ed597ebc",
   "metadata": {},
   "outputs": [],
   "source": [
    "df.drop_duplicates(inplace=True)"
   ]
  },
  {
   "cell_type": "markdown",
   "id": "601f4c70",
   "metadata": {},
   "source": [
    "#### Handling missing values"
   ]
  },
  {
   "cell_type": "code",
   "execution_count": 9,
   "id": "43a5584a",
   "metadata": {},
   "outputs": [
    {
     "name": "stdout",
     "output_type": "stream",
     "text": [
      "Missing values occurences:\n",
      "product/productId         1\n",
      "product/title             1\n",
      "product/price         43266\n",
      "review/userId          2275\n",
      "review/profileName     2275\n",
      "review/helpfulness        1\n",
      "review/score              1\n",
      "review/time               1\n",
      "review/summary            1\n",
      "review/text               1\n",
      "dtype: int64\n",
      "2.88% of the reviews are anonymously submitted.\n"
     ]
    }
   ],
   "source": [
    "df.replace(\"unknown\", np.nan, inplace=True)\n",
    "\n",
    "# Analyzing the missing values occurences\n",
    "print(\"Missing values occurences:\")\n",
    "print(df.isna().sum())\n",
    "\n",
    "# Checking anonymous reviews (those where userId and profileName is missing)\n",
    "anon_reviews_perc = df['review/userId'].isna().sum()/df.shape[0] * 100\n",
    "print(f\"{anon_reviews_perc:.2f}% of the reviews are anonymously submitted.\")\n"
   ]
  },
  {
   "cell_type": "markdown",
   "id": "31f83652",
   "metadata": {},
   "source": [
    "The first conclusion is one row that can be safely deleted in each column (it is very likely that it is the same row for each of the columns). \\\n",
    "The second conclusion refers to anonymous reviews. When missing values are less than 5% of given feature, they can be safely deleted without having impact on further analysis. For now the data will be divided into to sets - first with anonymous reviews and second with named reviews. It may be useful to further analysis."
   ]
  },
  {
   "cell_type": "code",
   "execution_count": 10,
   "id": "02b9942c",
   "metadata": {},
   "outputs": [
    {
     "name": "stdout",
     "output_type": "stream",
     "text": [
      "Shape of the dataset after dropping NaNs: (78894, 10)\n"
     ]
    }
   ],
   "source": [
    "# Extracting columns with 1 missing value\n",
    "cols = ['product/productId', 'product/title', 'review/helpfulness', 'review/score', 'review/time', \\\n",
    "        'review/summary', 'review/text']\n",
    "df = df.dropna(subset=cols)\n",
    "print(f\"Shape of the dataset after dropping NaNs: {df.shape}\")"
   ]
  },
  {
   "cell_type": "markdown",
   "id": "f800f994",
   "metadata": {},
   "source": [
    "As expected, only one row of the data was deleted."
   ]
  },
  {
   "cell_type": "markdown",
   "id": "35fc429d",
   "metadata": {},
   "source": [
    "Before dividing dataset into two separate dataset it would be useful to correct the columns' types.\n",
    "\n",
    "#### Correcting columns types"
   ]
  },
  {
   "cell_type": "code",
   "execution_count": 11,
   "id": "4d0b34a0",
   "metadata": {},
   "outputs": [],
   "source": [
    "df['product/price'] = pd.to_numeric(df['product/price'], errors='coerce')\n",
    "df['review/score'] = pd.to_numeric(df['review/score'], errors='coerce')\n",
    "df['review/time'] = pd.to_datetime(df['review/time'].astype(float), unit='s')\n",
    "\n",
    "def handle_helpfulness(x):\n",
    "    \"\"\"\n",
    "    Converts the string representation of helpfulness scores to a float value between 0 and 1.\n",
    "\n",
    "    Parameters:\n",
    "        helpfulness (str): The string representation of helpfulness scores, in the format \"x/y\",\n",
    "        where \"x\" is the number of users who found the review helpful and \"y\" is the total number of votes.\n",
    "\n",
    "    Returns:\n",
    "        float: The float value of the helpfulness score, calculated as \"x / y\". Returns 0 if \"y\" is 0.\n",
    "    \"\"\"\n",
    "    try:\n",
    "        nom, denom = x.split(\"/\")\n",
    "        return int(nom) / int(denom)\n",
    "    except (ValueError, ZeroDivisionError):\n",
    "        return 0\n",
    "\n",
    "df['review/helpfulness'] = df['review/helpfulness'].apply(handle_helpfulness)"
   ]
  },
  {
   "cell_type": "markdown",
   "id": "cd09fbd5",
   "metadata": {},
   "source": [
    "The price and score columns are stroing numeric values, the review has time in seconds. When it comes to helpfulness it was transformed to the float value that represents it.\n",
    "\n",
    "#### Division of dataset"
   ]
  },
  {
   "cell_type": "code",
   "execution_count": 12,
   "id": "a7b6ca41",
   "metadata": {},
   "outputs": [
    {
     "name": "stdout",
     "output_type": "stream",
     "text": [
      "Missing values occurences in anonymous reviews dataset:\n",
      "product/productId        0\n",
      "product/title            0\n",
      "product/price         1998\n",
      "review/userId         2274\n",
      "review/profileName    2274\n",
      "review/helpfulness       0\n",
      "review/score             0\n",
      "review/time              0\n",
      "review/summary           0\n",
      "review/text              0\n",
      "dtype: int64\n",
      "Missing values occurences in named reviews dataset:\n",
      "product/productId         0\n",
      "product/title             0\n",
      "product/price         41267\n",
      "review/userId             0\n",
      "review/profileName        0\n",
      "review/helpfulness        0\n",
      "review/score              0\n",
      "review/time               0\n",
      "review/summary            0\n",
      "review/text               0\n",
      "dtype: int64\n"
     ]
    }
   ],
   "source": [
    "# Dividing the dataset into anonymous and named\n",
    "df_anon = df[(df['review/userId'].isna()) & (df['review/profileName'].isna())]\n",
    "df_named = df[~(df['review/userId'].isna()) & ~(df['review/profileName'].isna())]\n",
    "\n",
    "print(f\"Missing values occurences in anonymous reviews dataset:\\n{df_anon.isna().sum()}\")\n",
    "print(f\"Missing values occurences in named reviews dataset:\\n{df_named.isna().sum()}\")"
   ]
  },
  {
   "cell_type": "markdown",
   "id": "0fc148c9",
   "metadata": {},
   "source": [
    "The last thing about missing values is the price. As it is a significant amount of data in both datasets it would not make sense to drop it. After seeing more details of the data a desicion will be made whether to replace the missing values with mean, mode or median or to create a new category for them."
   ]
  },
  {
   "cell_type": "markdown",
   "id": "fee9f053",
   "metadata": {},
   "source": [
    "#### Data Visualizations"
   ]
  }
 ],
 "metadata": {
  "kernelspec": {
   "display_name": "Python 3 (ipykernel)",
   "language": "python",
   "name": "python3"
  },
  "language_info": {
   "codemirror_mode": {
    "name": "ipython",
    "version": 3
   },
   "file_extension": ".py",
   "mimetype": "text/x-python",
   "name": "python",
   "nbconvert_exporter": "python",
   "pygments_lexer": "ipython3",
   "version": "3.10.10"
  }
 },
 "nbformat": 4,
 "nbformat_minor": 5
}
